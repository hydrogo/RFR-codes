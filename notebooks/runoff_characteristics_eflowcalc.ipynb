{
 "cells": [
  {
   "cell_type": "code",
   "execution_count": 1,
   "id": "29f9f690",
   "metadata": {},
   "outputs": [],
   "source": [
    "import os\n",
    "import datetime\n",
    "import numpy as np\n",
    "import pandas as pd\n",
    "import geopandas as gpd\n",
    "\n",
    "import eflowcalc\n",
    "\n",
    "import warnings\n",
    "warnings.filterwarnings(\"ignore\")\n",
    "\n",
    "import matplotlib.pyplot as plt\n",
    "%matplotlib inline"
   ]
  },
  {
   "cell_type": "code",
   "execution_count": 2,
   "id": "561235b2",
   "metadata": {},
   "outputs": [
    {
     "name": "stdout",
     "output_type": "stream",
     "text": [
      "0.1.0\n"
     ]
    }
   ],
   "source": [
    "print(eflowcalc.__version__)"
   ]
  },
  {
   "cell_type": "code",
   "execution_count": 3,
   "id": "61bdd38f",
   "metadata": {},
   "outputs": [],
   "source": [
    "path_to_dataset = \"/home/georgy/Documents/PEAK/results/tier2\""
   ]
  },
  {
   "cell_type": "code",
   "execution_count": 4,
   "id": "a5779fb8",
   "metadata": {},
   "outputs": [],
   "source": [
    "basins = gpd.read_file(os.path.join(path_to_dataset, \"gis/basins.geojson\"))"
   ]
  },
  {
   "cell_type": "code",
   "execution_count": 5,
   "id": "ee9ebccf",
   "metadata": {},
   "outputs": [],
   "source": [
    "def mm2cms(mm, area):\n",
    "    # convert cms to mm\n",
    "    coef = (86400*1000)/(area*1000000)\n",
    "    return mm / coef"
   ]
  },
  {
   "cell_type": "code",
   "execution_count": 6,
   "id": "a74c107d",
   "metadata": {},
   "outputs": [],
   "source": [
    "def calculate_eflow_characteristics(basin_id, mode=\"HST\", gcm=\"MIROC5\", rcp=\"rcp26\"):\n",
    "        \n",
    "    if mode == \"HST\":\n",
    "        \n",
    "        # define years to consider\n",
    "        years = [str(i) for i in range(1979,2017)]\n",
    "        \n",
    "        path_runoff = os.path.join(path_to_dataset, \"hydro/runoff/\", mode, f\"{basin_id}.csv\")\n",
    "        \n",
    "    elif mode == \"PRJ\":\n",
    "        \n",
    "        # define years to consider\n",
    "        years = [str(i) for i in range(2017,2100)]\n",
    "        \n",
    "        path_runoff = os.path.join(path_to_dataset, \"hydro/runoff/\", mode, gcm, rcp, f\"{basin_id}.csv\")\n",
    "        \n",
    "    # read input data\n",
    "    runoff = pd.read_csv(path_runoff, \n",
    "                         index_col=0, \n",
    "                         parse_dates=True)\n",
    "    \n",
    "    basin_area = float(basins[basins[\"idx\"]==str(basin_id)][\"area_merit\"].iloc[0])\n",
    "    \n",
    "    # convert from mm to cms\n",
    "    runoff[\"cms\"] = mm2cms(runoff[\"Runoff\"], basin_area)\n",
    "    \n",
    "    holder = {}\n",
    "    \n",
    "    for year in years[1:]:\n",
    "        \n",
    "        year = int(year)\n",
    "        \n",
    "        characteristics = eflowcalc.calculator(sfcs=eflowcalc.everything,\n",
    "                                               datetimes=runoff[f\"{year-1}-11-01\":f\"{year}-10-31\"].index.to_pydatetime(),\n",
    "                                               streamflows=runoff[f\"{year-1}-11-01\":f\"{year}-10-31\"][\"cms\"].to_numpy(),\n",
    "                                               drainage_area=basin_area,\n",
    "                                               hydro_year=\"01/11\")\n",
    "        \n",
    "        characteristics = np.where(np.isfinite(characteristics.ravel())!=True, np.nan, characteristics.ravel())\n",
    "        \n",
    "        holder[year] = characteristics.tolist()\n",
    "    \n",
    "    df_chars = pd.DataFrame(holder, index=[i.__name__ for i in eflowcalc.everything]).T\n",
    "    \n",
    "    return df_chars"
   ]
  },
  {
   "cell_type": "code",
   "execution_count": 7,
   "id": "1601c22e",
   "metadata": {},
   "outputs": [
    {
     "name": "stdout",
     "output_type": "stream",
     "text": [
      "CPU times: user 11.4 s, sys: 3.6 ms, total: 11.4 s\n",
      "Wall time: 11.4 s\n"
     ]
    }
   ],
   "source": [
    "%%time\n",
    "nvkz = calculate_eflow_characteristics(10240, mode=\"HST\")"
   ]
  },
  {
   "cell_type": "code",
   "execution_count": 8,
   "id": "bff1a4a5",
   "metadata": {},
   "outputs": [
    {
     "name": "stdout",
     "output_type": "stream",
     "text": [
      "CPU times: user 24.4 s, sys: 7.89 ms, total: 24.4 s\n",
      "Wall time: 24.4 s\n"
     ]
    }
   ],
   "source": [
    "%%time\n",
    "nvkzf = calculate_eflow_characteristics(10240, mode=\"PRJ\")"
   ]
  },
  {
   "cell_type": "code",
   "execution_count": null,
   "id": "c6290bf2",
   "metadata": {},
   "outputs": [],
   "source": []
  }
 ],
 "metadata": {
  "kernelspec": {
   "display_name": "Python 3 (ipykernel)",
   "language": "python",
   "name": "python3"
  },
  "language_info": {
   "codemirror_mode": {
    "name": "ipython",
    "version": 3
   },
   "file_extension": ".py",
   "mimetype": "text/x-python",
   "name": "python",
   "nbconvert_exporter": "python",
   "pygments_lexer": "ipython3",
   "version": "3.9.6"
  }
 },
 "nbformat": 4,
 "nbformat_minor": 5
}
